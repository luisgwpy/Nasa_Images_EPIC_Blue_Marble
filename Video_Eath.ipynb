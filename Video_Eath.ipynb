{
 "cells": [
  {
   "cell_type": "markdown",
   "id": "342df769",
   "metadata": {},
   "source": [
    "# About\n",
    "## 🎞️ Video Maker from NASA EPIC Images\n",
    "\n",
    "This function generates a time-lapse video using a sequence of Earth observation images from NASA's [EPIC (Earth Polychromatic Imaging Camera)](https://epic.gsfc.nasa.gov/about/api) archive.\n",
    "\n",
    "It takes a list of image identifiers, overlays each frame with a timestamp watermark, and stitches them into a smooth `.mp4` video.\n",
    "\n",
    "### 🔧 Function Overview\n",
    "\n",
    "```python\n",
    "video_maker(\n",
    "    output_video=\"earth_timelapse.mp4\",\n",
    "    duration=10,                        # duration in seconds\n",
    "    list_images=[...],                  # list of EPIC image identifiers\n",
    "    PATH_IMAGE=\"path/to/images/\"        # folder containing .png images\n",
    ")"
   ]
  },
  {
   "cell_type": "markdown",
   "id": "7c3e558f",
   "metadata": {},
   "source": [
    "# Environment\n",
    "\n",
    "**Make you to use the requirements.txt in your environment**"
   ]
  },
  {
   "cell_type": "code",
   "execution_count": null,
   "id": "6bebba20",
   "metadata": {},
   "outputs": [],
   "source": [
    "import cv2\n",
    "import os\n",
    "import pandas as pd"
   ]
  },
  {
   "cell_type": "markdown",
   "id": "359420df",
   "metadata": {},
   "source": [
    "# CONSTANS and Variables"
   ]
  },
  {
   "cell_type": "code",
   "execution_count": null,
   "id": "a90144c6",
   "metadata": {},
   "outputs": [],
   "source": [
    "# Read file to get identifiers\n",
    "PATH_FILE = \"ADD_THE_PATH_TO_SAVE_AN_EXCEL_FILE\" # eg: 'your_path/your_file.xlsx' the same file you saved in API_NASA_BLUE_MARBLE.ipynb\n",
    "MAIN_PATH = \"ADD_THE_PATH_TO_DOWNLOAD_IMAGES\"    # The path where you saved all the immages, the same of API_NASA_BLUE_MARBLE.ipynb\n",
    "output_video = 'output_video.mp4'"
   ]
  },
  {
   "cell_type": "markdown",
   "id": "8bea1436",
   "metadata": {},
   "source": [
    "# Functions"
   ]
  },
  {
   "cell_type": "code",
   "execution_count": null,
   "id": "7184e625",
   "metadata": {},
   "outputs": [],
   "source": [
    "def video_maker(output_video, duration, list_images, PATH_IMAGE=PATH_IMAGE):\n",
    "    \n",
    "    # Determine FPS\n",
    "    fps = len(list_images) / duration\n",
    "\n",
    "    # First image (to get size)\n",
    "    first_image_path = os.path.join(PATH_IMAGE, f\"{list_images[0]}.png\")\n",
    "    first_frame = cv2.imread(first_image_path)\n",
    "    if first_frame is None:\n",
    "        raise FileNotFoundError(f\"First image not found: {first_image_path}\")\n",
    "    frame_height, frame_width = first_frame.shape[:2]\n",
    "\n",
    "    # Video writer\n",
    "    fourcc = cv2.VideoWriter_fourcc(*'mp4v')\n",
    "    video_writer = cv2.VideoWriter(output_video, fourcc, fps, (frame_width, frame_height))\n",
    "\n",
    "    # Font config\n",
    "    font = cv2.FONT_HERSHEY_SIMPLEX\n",
    "    font_scale = 1\n",
    "    font_thickness = 2\n",
    "    font_color = (255, 255, 255)  # White\n",
    "    bg_color = (0, 0, 0)  # Black background for readability\n",
    "    missing_keys = []\n",
    "    # Process images\n",
    "    for key in list_images:\n",
    "        img_path = os.path.join(PATH_IMAGE, f\"{key}.png\")\n",
    "        frame = cv2.imread(img_path)\n",
    "        if frame is None:\n",
    "            print(f\"⚠️ Image not found: {img_path}\")\n",
    "            missing_keys.append(key)\n",
    "            continue\n",
    "\n",
    "        resized = cv2.resize(frame, (frame_width, frame_height))\n",
    "\n",
    "        # Watermark text (timestamp)\n",
    "        text = str(key)\n",
    "        text_size, _ = cv2.getTextSize(text, font, font_scale, font_thickness)\n",
    "        text_width, text_height = text_size\n",
    "\n",
    "        # Position (bottom-right corner with padding)\n",
    "        x = frame_width - text_width - 20\n",
    "        y = frame_height - 20\n",
    "\n",
    "        # Draw background rectangle for text\n",
    "        cv2.rectangle(resized, (x - 5, y - text_height - 5), (x + text_width + 5, y + 5), bg_color, -1)\n",
    "        # Draw text\n",
    "        cv2.putText(resized, text, (x, y), font, font_scale, font_color, font_thickness, cv2.LINE_AA)\n",
    "\n",
    "        video_writer.write(resized)\n",
    "\n",
    "    video_writer.release()\n",
    "    print(\"🎬 Video successfully saved as:\", output_video)"
   ]
  },
  {
   "cell_type": "markdown",
   "id": "7c37784d",
   "metadata": {},
   "source": [
    "# Read information to use"
   ]
  },
  {
   "cell_type": "code",
   "execution_count": null,
   "id": "37fff680",
   "metadata": {},
   "outputs": [],
   "source": [
    "df = pd.read_excel(PATH_FILE)\n",
    "# Reverse the df > 2015-2025\n",
    "df_use = df[::-1]\n",
    "ordered_dict_keys = df_use['identifier'].to_list()"
   ]
  },
  {
   "cell_type": "markdown",
   "id": "d83e2c6c",
   "metadata": {},
   "source": [
    "# Code Execution"
   ]
  },
  {
   "cell_type": "code",
   "execution_count": null,
   "id": "2f69eef8",
   "metadata": {},
   "outputs": [],
   "source": [
    "if __name__ == \"__main__\":    \n",
    "    video_maker('output_example.mp4', 1200, ordered_dict_keys, PATH_IMAGE=PATH_IMAGE)"
   ]
  }
 ],
 "metadata": {
  "kernelspec": {
   "display_name": "base",
   "language": "python",
   "name": "python3"
  },
  "language_info": {
   "codemirror_mode": {
    "name": "ipython",
    "version": 3
   },
   "file_extension": ".py",
   "mimetype": "text/x-python",
   "name": "python",
   "nbconvert_exporter": "python",
   "pygments_lexer": "ipython3",
   "version": "3.12.7"
  }
 },
 "nbformat": 4,
 "nbformat_minor": 5
}
