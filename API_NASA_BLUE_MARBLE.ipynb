{
 "cells": [
  {
   "cell_type": "markdown",
   "id": "b0101476",
   "metadata": {},
   "source": [
    "# 📘 About\n",
    "\n",
    "This Python script interacts with NASA's **EPIC (Earth Polychromatic Imaging Camera) Daily “Blue Marble” API** to automate the process of downloading high-resolution satellite imagery of Earth.\n",
    "\n",
    "The script:\n",
    "\n",
    "- Retrieves all available dates with EPIC imagery.\n",
    "- Fetches metadata for a specific date.\n",
    "- Extracts image identifiers and builds direct download URLs.\n",
    "- Downloads and saves the images locally using their timestamp-based identifier.\n",
    "\n",
    "It uses the **natural color** version of the EPIC image archive.\n",
    "\n",
    "🔗 **API Documentation:**  \n",
    "[https://epic.gsfc.nasa.gov/about/api](https://epic.gsfc.nasa.gov/about/api)\n",
    "\n",
    "🖼️ **Sample Image Preview:**  \n",
    "![EPIC Sample](https://epic.gsfc.nasa.gov/archive/natural/2015/10/31/png/epic_1b_20151031074844.png)\n"
   ]
  },
  {
   "cell_type": "markdown",
   "id": "e70e8853",
   "metadata": {},
   "source": [
    "# Environment\n",
    "\n",
    "**Make you to use the requirements.txt in your environment**"
   ]
  },
  {
   "cell_type": "code",
   "execution_count": null,
   "id": "ecbd3804",
   "metadata": {},
   "outputs": [],
   "source": [
    "import os\n",
    "import requests\n",
    "from datetime import datetime\n",
    "import pandas as pd "
   ]
  },
  {
   "cell_type": "markdown",
   "id": "22005636",
   "metadata": {},
   "source": [
    "# CONSTANS and Variables"
   ]
  },
  {
   "cell_type": "code",
   "execution_count": null,
   "id": "37c2dee5",
   "metadata": {},
   "outputs": [],
   "source": [
    "# Base endpoints\n",
    "MAIN_URL      = \"https://epic.gsfc.nasa.gov/api/natural\"\n",
    "MAIN_PATH     = \"ADD_THE_PATH_TO_DOWNLOAD_IMAGES\"\n",
    "PATH_FILE     = \"ADD_THE_PATH_TO_SAVE_AN_EXCEL_FILE\"      # eg: 'your_path/your_file.xlsx'\n",
    "\n",
    "os.chdir(MAIN_PATH)"
   ]
  },
  {
   "cell_type": "markdown",
   "id": "17446d9b",
   "metadata": {},
   "source": [
    "# Funtions "
   ]
  },
  {
   "cell_type": "code",
   "execution_count": null,
   "id": "fd8b7cb1",
   "metadata": {},
   "outputs": [],
   "source": [
    "\n",
    "\n",
    "def get_available_dates():\n",
    "    \"\"\"Returns a list of strings like '2025-07-01', etc.\"\"\"\n",
    "    resp = requests.get(MAIN_URL + \"/all\")\n",
    "    resp.raise_for_status()\n",
    "    return resp.json()\n",
    "\n",
    "def get_metadata_for_date(date_str):\n",
    "    \"\"\"Fetches the list of image metadata for a particular date.\"\"\"\n",
    "    # date_str must be 'YYYY-MM-DD'\n",
    "    MAIN_URL_MODIFIED = MAIN_URL.replace('natural','enhanced')\n",
    "    resp = requests.get(f\"{MAIN_URL_MODIFIED}/date/{date_str}\")\n",
    "    resp.raise_for_status()\n",
    "    return resp.json()\n",
    "\n",
    "def format_request(list_identifiers):\n",
    "    \"\"\"Using a list creates a df and creates the structure of the request.\"\"\"\n",
    "    d = {'identifier': list_identifiers}\n",
    "    df = pd.DataFrame(data=d)\n",
    "    print(df.shape)\n",
    "    df = df.drop_duplicates()\n",
    "    print(df.shape)  # There can be some duplicates\n",
    "\n",
    "    df['year'] = df['identifier'].apply(lambda x: x[0:4])\n",
    "    df['month'] = df['identifier'].apply(lambda x: x[4:6])\n",
    "    df['day'] = df['identifier'].apply(lambda x: x[6:8])\n",
    "    df['request'] = 'https://epic.gsfc.nasa.gov/archive/natural/'+df['year']+'/'+df['month']+'/'+df['day']+'/png/epic_1b_'+df['identifier']+'.png'\n",
    "    return df \n",
    "\n",
    "def download_image(df):\n",
    "    \"\"\"Using the df request the urls of the images, then saves each image with the identifier\"\"\"\n",
    "        for i in range(0,len(df)+1):\n",
    "            try: \n",
    "                picture_request = requests.get(f'{df['request'].iloc[i]}')  \n",
    "                if picture_request.status_code == 200:\n",
    "                    with open(f\"{df['identifier'].iloc[i]}.png\", 'wb') as img:  \n",
    "                        img.write(picture_request.content)\n",
    "            except Exception as e: \n",
    "                print('---------------------------------------')\n",
    "                print(f'Error in url: {df['request'].iloc[i]}')\n",
    "                print(f'Error description: {e}')\n",
    "                pass "
   ]
  },
  {
   "cell_type": "markdown",
   "id": "2daa7070",
   "metadata": {},
   "source": [
    "# Code Execution"
   ]
  },
  {
   "cell_type": "code",
   "execution_count": null,
   "id": "5ab96b87",
   "metadata": {},
   "outputs": [],
   "source": [
    "if __name__ == \"__main__\":\n",
    "    \n",
    "    # Step 1 \n",
    "    dates = get_available_dates()\n",
    "    list_identifiers = []\n",
    "    \n",
    "    # Step 2\n",
    "    for i in dates:\n",
    "        date_view = i['date']\n",
    "        meta = get_metadata_for_date(date_view)\n",
    "        for m in meta:\n",
    "            identifier = m[\"identifier\"]\n",
    "            list_identifiers.append(identifier)\n",
    "\n",
    "    # Step 3\n",
    "    df = format_request(list_identifiers)\n",
    "    try: \n",
    "        df.to_excel(f'{PATH_FILE}', index = False)\n",
    "    except: \n",
    "        print(\"No se pudo exportar el excel\")\n",
    "    \n",
    "    # Step 4\n",
    "    download_image(df)"
   ]
  }
 ],
 "metadata": {
  "kernelspec": {
   "display_name": "base",
   "language": "python",
   "name": "python3"
  },
  "language_info": {
   "codemirror_mode": {
    "name": "ipython",
    "version": 3
   },
   "file_extension": ".py",
   "mimetype": "text/x-python",
   "name": "python",
   "nbconvert_exporter": "python",
   "pygments_lexer": "ipython3",
   "version": "3.12.7"
  }
 },
 "nbformat": 4,
 "nbformat_minor": 5
}
