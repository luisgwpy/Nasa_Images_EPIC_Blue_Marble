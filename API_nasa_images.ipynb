{
 "cells": [
  {
   "cell_type": "code",
   "execution_count": null,
   "id": "ecbd3804",
   "metadata": {},
   "outputs": [],
   "source": [
    "import os\n",
    "import requests\n",
    "from datetime import datetime\n",
    "import pandas as pd \n",
    "#pd.set_option('display.max_rows', None)\n",
    "#pd.set_option('display.max_columns', None)\n",
    "#pd.set_option('display.max_colwidth', None)\n"
   ]
  },
  {
   "cell_type": "code",
   "execution_count": null,
   "id": "37c2dee5",
   "metadata": {},
   "outputs": [],
   "source": [
    "# Base endpoints\n",
    "MAIN_URL      = \"https://epic.gsfc.nasa.gov/api/natural\"\n",
    "MAIN_PATH     = \"D:/Data_Data_no_Mi/Astronomics_island/NASA/downloaded\"\n",
    "os.chdir(MAIN_PATH)"
   ]
  },
  {
   "cell_type": "code",
   "execution_count": null,
   "id": "fd8b7cb1",
   "metadata": {},
   "outputs": [],
   "source": [
    "\n",
    "\n",
    "def get_available_dates():\n",
    "    \"\"\"Returns a list of strings like '2025-07-01', etc.\"\"\"\n",
    "    resp = requests.get(MAIN_URL + \"/all\")\n",
    "    resp.raise_for_status()\n",
    "    return resp.json()\n",
    "\n",
    "def get_metadata_for_date(date_str):\n",
    "    \"\"\"Fetches the list of image metadata for a particular date.\"\"\"\n",
    "    # date_str must be 'YYYY-MM-DD'\n",
    "    MAIN_URL_MODIFIED = MAIN_URL.replace('natural','enhanced')\n",
    "    resp = requests.get(f\"{MAIN_URL_MODIFIED}/date/{date_str}\")\n",
    "    resp.raise_for_status()\n",
    "    return resp.json()\n",
    "\n",
    "def format_request(list_identifiers):\n",
    "    d = {'identifier': list_identifiers}\n",
    "    df = pd.DataFrame(data=d)\n",
    "    print(df.shape)\n",
    "    df = df.drop_duplicates()\n",
    "    print(df.shape)\n",
    "\n",
    "    df['year'] = df['identifier'].apply(lambda x: x[0:4])\n",
    "    df['month'] = df['identifier'].apply(lambda x: x[4:6])\n",
    "    df['day'] = df['identifier'].apply(lambda x: x[6:8])\n",
    "    df['request'] = 'https://epic.gsfc.nasa.gov/archive/natural/'+df['year']+'/'+df['month']+'/'+df['day']+'/png/epic_1b_'+df['identifier']+'.png'\n",
    "    return df \n",
    "\n",
    "def download_image(df):\n",
    "        for i in range(0,len(df)+1):\n",
    "            try: \n",
    "                #print(df['request'].iloc[i])\n",
    "                picture_request = requests.get(f'{df['request'].iloc[i]}')  \n",
    "                if picture_request.status_code == 200:\n",
    "                    with open(f\"{df['identifier'].iloc[i]}.png\", 'wb') as img:  \n",
    "                        img.write(picture_request.content)\n",
    "            except Exception as e: \n",
    "                print('---------------------------------------')\n",
    "                print(f'Error in url: {df['request'].iloc[i]}')\n",
    "                print(f'Error description: {e}')\n",
    "                pass "
   ]
  },
  {
   "cell_type": "code",
   "execution_count": null,
   "id": "5ab96b87",
   "metadata": {},
   "outputs": [],
   "source": [
    "\n",
    "\n",
    "if __name__ == \"__main__\":\n",
    "    \n",
    "    # Paso 1: Obtener todas las fechas \n",
    "    dates = get_available_dates()\n",
    "    list_identifiers = []\n",
    "    \n",
    "    # Paso 2: Obtener todos los identificadores\n",
    "    for i in dates:\n",
    "        date_view = i['date']\n",
    "        meta = get_metadata_for_date(date_view)\n",
    "        for m in meta:\n",
    "            identifier = m[\"identifier\"]\n",
    "            list_identifiers.append(identifier)\n",
    "\n",
    "    # Paso 3: Request de imagen y descargar\n",
    "    df = format_request(list_identifiers)\n",
    "    try: \n",
    "        df.to_excel('D:/Data_Data_no_Mi/Astronomics_island/NASA/Images_NASA_earth_2015_25.xlsx', index = False)\n",
    "    except: \n",
    "        print(\"No se pudo exportar el excel\")\n",
    "    download_image(df)\n",
    "\n",
    "    \n"
   ]
  }
 ],
 "metadata": {
  "kernelspec": {
   "display_name": "base",
   "language": "python",
   "name": "python3"
  },
  "language_info": {
   "codemirror_mode": {
    "name": "ipython",
    "version": 3
   },
   "file_extension": ".py",
   "mimetype": "text/x-python",
   "name": "python",
   "nbconvert_exporter": "python",
   "pygments_lexer": "ipython3",
   "version": "3.12.7"
  }
 },
 "nbformat": 4,
 "nbformat_minor": 5
}
